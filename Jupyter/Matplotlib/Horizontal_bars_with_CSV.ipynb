{
 "cells": [
  {
   "cell_type": "code",
   "execution_count": 32,
   "id": "civil-aggregate",
   "metadata": {},
   "outputs": [],
   "source": [
    "# Using horizontal bars on a large dataset  \n",
    "\n",
    "import csv\n",
    "\n",
    "from matplotlib import pyplot as plt\n",
    "\n",
    "import numpy as np\n",
    "\n",
    "from collections import Counter # to help count the number of times a language shows up \n",
    "\n"
   ]
  },
  {
   "cell_type": "code",
   "execution_count": 33,
   "id": "gothic-contemporary",
   "metadata": {},
   "outputs": [],
   "source": [
    "# Data is from the 2019 Stackoverflow  survey. The question was : How many languages do you know? \n",
    "\n",
    "\n",
    "#count for each language: \n",
    "\n",
    "with open ('data.csv') as csv_file:\n",
    "    csv_reader= csv.DictReader(csv_file)\n",
    "    language_counter = Counter()\n",
    "    for row in csv_reader:\n",
    "        language_counter.update(row['LanguagesWorkedWith'].split(\";\"))\n",
    "    \n",
    "    "
   ]
  },
  {
   "cell_type": "code",
   "execution_count": 36,
   "id": "christian-mortality",
   "metadata": {},
   "outputs": [
    {
     "data": {
      "text/plain": [
       "Counter({'HTML/CSS': 55466,\n",
       "         'Java': 35917,\n",
       "         'JavaScript': 59219,\n",
       "         'Python': 36443,\n",
       "         'C++': 20524,\n",
       "         'C': 18017,\n",
       "         'C#': 27097,\n",
       "         'SQL': 47544,\n",
       "         'VBA': 4781,\n",
       "         'R': 5048,\n",
       "         'Bash/Shell/PowerShell': 31991,\n",
       "         'Ruby': 7331,\n",
       "         'Rust': 2794,\n",
       "         'TypeScript': 18523,\n",
       "         'WebAssembly': 1015,\n",
       "         'Other(s):': 7920,\n",
       "         'Go': 7201,\n",
       "         'PHP': 23030,\n",
       "         'Assembly': 5833,\n",
       "         'Kotlin': 5620,\n",
       "         'Swift': 5744,\n",
       "         'Objective-C': 4191,\n",
       "         'Elixir': 1260,\n",
       "         'Erlang': 777,\n",
       "         'Clojure': 1254,\n",
       "         'F#': 973,\n",
       "         'Scala': 3309,\n",
       "         'Dart': 1683})"
      ]
     },
     "execution_count": 36,
     "metadata": {},
     "output_type": "execute_result"
    }
   ],
   "source": [
    "# All  languages result\n",
    "language_counter"
   ]
  },
  {
   "cell_type": "code",
   "execution_count": 38,
   "id": "spoken-friendship",
   "metadata": {},
   "outputs": [
    {
     "data": {
      "text/plain": [
       "[('JavaScript', 59219),\n",
       " ('HTML/CSS', 55466),\n",
       " ('SQL', 47544),\n",
       " ('Python', 36443),\n",
       " ('Java', 35917),\n",
       " ('Bash/Shell/PowerShell', 31991),\n",
       " ('C#', 27097),\n",
       " ('PHP', 23030),\n",
       " ('C++', 20524),\n",
       " ('TypeScript', 18523)]"
      ]
     },
     "execution_count": 38,
     "metadata": {},
     "output_type": "execute_result"
    }
   ],
   "source": [
    "# Top 10 languages:\n",
    "language_counter.most_common(10)"
   ]
  },
  {
   "cell_type": "code",
   "execution_count": 39,
   "id": "norwegian-remove",
   "metadata": {},
   "outputs": [],
   "source": [
    "# let's plot that:\n",
    "# separate languages and the count to get the x-axis and y-axis\n",
    "\n",
    "languages=[]\n",
    "popularity=[]\n",
    "\n",
    "for item in language_counter.most_common(10):\n",
    "    languages.append(item[0])\n",
    "    popularity.append(item[1])\n"
   ]
  },
  {
   "cell_type": "code",
   "execution_count": 40,
   "id": "lyric-beijing",
   "metadata": {},
   "outputs": [
    {
     "data": {
      "text/plain": [
       "['JavaScript',\n",
       " 'HTML/CSS',\n",
       " 'SQL',\n",
       " 'Python',\n",
       " 'Java',\n",
       " 'Bash/Shell/PowerShell',\n",
       " 'C#',\n",
       " 'PHP',\n",
       " 'C++',\n",
       " 'TypeScript']"
      ]
     },
     "execution_count": 40,
     "metadata": {},
     "output_type": "execute_result"
    }
   ],
   "source": [
    "languages #y-axis"
   ]
  },
  {
   "cell_type": "code",
   "execution_count": 42,
   "id": "legitimate-survivor",
   "metadata": {},
   "outputs": [
    {
     "data": {
      "text/plain": [
       "[59219, 55466, 47544, 36443, 35917, 31991, 27097, 23030, 20524, 18523]"
      ]
     },
     "execution_count": 42,
     "metadata": {},
     "output_type": "execute_result"
    }
   ],
   "source": [
    "popularity #x-axis"
   ]
  },
  {
   "cell_type": "code",
   "execution_count": 49,
   "id": "nearby-training",
   "metadata": {},
   "outputs": [
    {
     "data": {
      "image/png": "[encoded data removed]",
      "text/plain": [
       "<Figure size 432x288 with 1 Axes>"
      ]
     },
     "metadata": {
      "needs_background": "light"
     },
     "output_type": "display_data"
    }
   ],
   "source": [
    "plt.barh(languages, popularity )\n",
    "plt.xlabel('Number of people')\n",
    "plt.title('Language popularity')\n",
    "plt.show()"
   ]
  },
  {
   "cell_type": "code",
   "execution_count": 50,
   "id": "acquired-workstation",
   "metadata": {},
   "outputs": [
    {
     "data": {
      "image/png": "[encoded data removed]",
      "text/plain": [
       "<Figure size 432x288 with 1 Axes>"
      ]
     },
     "metadata": {
      "needs_background": "light"
     },
     "output_type": "display_data"
    }
   ],
   "source": [
    "# reversing the list to have the most popular language come first on the chart\n",
    "\n",
    "languages.reverse()\n",
    "popularity.reverse()\n",
    "plt.barh(languages, popularity )\n",
    "plt.xlabel('Number of people')\n",
    "plt.title('Language popularity')\n",
    "plt.show()"
   ]
  },
  {
   "cell_type": "code",
   "execution_count": null,
   "id": "reliable-colorado",
   "metadata": {},
   "outputs": [],
   "source": [
    "\n",
    "\n",
    "############################ USING PANDAS ################################\n"
   ]
  },
  {
   "cell_type": "code",
   "execution_count": 52,
   "id": "subject-coalition",
   "metadata": {},
   "outputs": [],
   "source": [
    "import pandas as pd "
   ]
  },
  {
   "cell_type": "code",
   "execution_count": 53,
   "id": "recognized-shower",
   "metadata": {},
   "outputs": [],
   "source": [
    "data = pd.read_csv('data.csv')"
   ]
  },
  {
   "cell_type": "code",
   "execution_count": 56,
   "id": "freelance-glasgow",
   "metadata": {},
   "outputs": [],
   "source": [
    "# specifying columns:\n",
    "\n",
    "ids = data['Responder_id']\n",
    "languages_responses=data['LanguagesWorkedWith']"
   ]
  },
  {
   "cell_type": "code",
   "execution_count": 57,
   "id": "unusual-classic",
   "metadata": {},
   "outputs": [],
   "source": [
    "# we still nedd to use the Counter()\n",
    "\n",
    "language_pd_counter= Counter()\n"
   ]
  },
  {
   "cell_type": "code",
   "execution_count": 60,
   "id": "interpreted-quest",
   "metadata": {},
   "outputs": [],
   "source": [
    "for responses in languages_responses:\n",
    "        language_pd_counter.update(responses.split(\";\"))"
   ]
  },
  {
   "cell_type": "code",
   "execution_count": 64,
   "id": "associate-maker",
   "metadata": {},
   "outputs": [
    {
     "data": {
      "image/png": "[encoded data removed]",
      "text/plain": [
       "<Figure size 432x288 with 1 Axes>"
      ]
     },
     "metadata": {
      "needs_background": "light"
     },
     "output_type": "display_data"
    }
   ],
   "source": [
    "languages.reverse()\n",
    "popularity.reverse()\n",
    "plt.barh(languages, popularity )\n",
    "plt.xlabel('Number of people')\n",
    "plt.title('Language popularity')\n",
    "plt.show()"
   ]
  },
  {
   "cell_type": "code",
   "execution_count": null,
   "id": "boring-works",
   "metadata": {},
   "outputs": [],
   "source": []
  }
 ],
 "metadata": {
  "kernelspec": {
   "display_name": "Python 3",
   "language": "python",
   "name": "python3"
  },
  "language_info": {
   "codemirror_mode": {
    "name": "ipython",
    "version": 3
   },
   "file_extension": ".py",
   "mimetype": "text/x-python",
   "name": "python",
   "nbconvert_exporter": "python",
   "pygments_lexer": "ipython3",
   "version": "3.9.0"
  }
 },
 "nbformat": 4,
 "nbformat_minor": 5
}
